{
 "cells": [
  {
   "cell_type": "markdown",
   "id": "052adf9b",
   "metadata": {},
   "source": [
    "# Line Graph"
   ]
  },
  {
   "cell_type": "code",
   "execution_count": 1,
   "id": "6b2d014e",
   "metadata": {},
   "outputs": [],
   "source": [
    "import matplotlib.pyplot as plt\n",
    "#import matplotlib.style"
   ]
  },
  {
   "cell_type": "code",
   "execution_count": null,
   "id": "b85059ba",
   "metadata": {},
   "outputs": [],
   "source": [
    "x=[10,5,12,14,0,8]\n",
    "plt.plot(x)\n",
    "plt.show"
   ]
  },
  {
   "cell_type": "code",
   "execution_count": null,
   "id": "525fccab",
   "metadata": {},
   "outputs": [],
   "source": [
    "a = [1,2,3,4,5]\n",
    "b = [2,4,6,8,10]\n",
    "c = [3,6,9,12,15]\n",
    "d = [5,10,15,20,25]"
   ]
  },
  {
   "cell_type": "code",
   "execution_count": null,
   "id": "6668877d",
   "metadata": {
    "scrolled": true
   },
   "outputs": [],
   "source": [
    "plt.plot(a,b)"
   ]
  },
  {
   "cell_type": "code",
   "execution_count": null,
   "id": "a72f17b3",
   "metadata": {},
   "outputs": [],
   "source": [
    "plt.plot(a,c)"
   ]
  },
  {
   "cell_type": "code",
   "execution_count": null,
   "id": "1b22b13d",
   "metadata": {},
   "outputs": [],
   "source": [
    "plt.plot(a,b , color = \"purple\")"
   ]
  },
  {
   "cell_type": "code",
   "execution_count": null,
   "id": "59a3e4d8",
   "metadata": {},
   "outputs": [],
   "source": [
    "plt.plot(a,b , color = \"m\" , linewidth = 5)"
   ]
  },
  {
   "cell_type": "code",
   "execution_count": null,
   "id": "535aa43b",
   "metadata": {},
   "outputs": [],
   "source": [
    "plt.plot(a,b , color = \"purple\" , linewidth = 5 , linestyle = \":\")"
   ]
  },
  {
   "cell_type": "raw",
   "id": "363184e7",
   "metadata": {},
   "source": [
    "**Line Styles**\n",
    "\n",
    "=============    ===============================\n",
    "character        description\n",
    "=============    ===============================\n",
    "``'-'``          solid line style\n",
    "``'--'``         dashed line style\n",
    "``'-.'``         dash-dot line style\n",
    "``':'``          dotted line style\n",
    "\n",
    "\n",
    "**Colors**\n",
    "\n",
    "=============    ===============================\n",
    "character        color\n",
    "=============    ===============================\n",
    "``'b'``          blue\n",
    "``'g'``          green\n",
    "``'r'``          red\n",
    "``'c'``          cyan\n",
    "``'m'``          magenta\n",
    "``'y'``          yellow\n",
    "``'k'``          black\n",
    "``'w'``          white"
   ]
  },
  {
   "cell_type": "code",
   "execution_count": null,
   "id": "e335caed",
   "metadata": {},
   "outputs": [],
   "source": [
    "plt.plot(a,b) \n",
    "plt.xlim(2,5)\n",
    "plt.ylim(4,10)"
   ]
  },
  {
   "cell_type": "code",
   "execution_count": null,
   "id": "1178e1b5",
   "metadata": {},
   "outputs": [],
   "source": [
    "plt.plot(a,b)\n",
    "plt.xlabel(\"X - Axis\")\n",
    "plt.ylabel(\"Y - Axis\")"
   ]
  },
  {
   "cell_type": "code",
   "execution_count": null,
   "id": "ff2bdab2",
   "metadata": {},
   "outputs": [],
   "source": [
    "plt.plot(a,b)\n",
    "plt.xlabel(\"X - Axis\")\n",
    "plt.ylabel(\"Y - Axis\");"
   ]
  },
  {
   "cell_type": "code",
   "execution_count": null,
   "id": "0c5c970b",
   "metadata": {},
   "outputs": [],
   "source": [
    "plt.plot(a,b)\n",
    "plt.xlabel(\"X - Axis\" , color = \"red\" , fontsize = 20)\n",
    "plt.ylabel(\"Y - Axis\" , color = \"blue\", fontsize = 20.6)"
   ]
  },
  {
   "cell_type": "code",
   "execution_count": null,
   "id": "d575df13",
   "metadata": {},
   "outputs": [],
   "source": [
    "plt.plot(a,b)\n",
    "plt.plot(a,c)"
   ]
  },
  {
   "cell_type": "code",
   "execution_count": null,
   "id": "f47eeb44",
   "metadata": {},
   "outputs": [],
   "source": [
    "plt.plot(a,b , color = \"red\")\n",
    "plt.plot(a,c , color = \"purple\")"
   ]
  },
  {
   "cell_type": "code",
   "execution_count": null,
   "id": "ce3431dd",
   "metadata": {
    "scrolled": true
   },
   "outputs": [],
   "source": [
    "plt.plot(a,b)\n",
    "plt.grid(True)"
   ]
  },
  {
   "cell_type": "code",
   "execution_count": null,
   "id": "3f1c82c2",
   "metadata": {},
   "outputs": [],
   "source": [
    "plt.plot(a,b)\n",
    "plt.grid(True , linestyle = \"--\" , color = \"red\")"
   ]
  },
  {
   "cell_type": "code",
   "execution_count": null,
   "id": "f285c400",
   "metadata": {},
   "outputs": [],
   "source": [
    "plt.plot(a,b , markersize = 6 , linestyle = \"-\" , marker = \"o\")\n",
    "plt.grid(True , linestyle = \"--\" , color = \"red\")"
   ]
  },
  {
   "cell_type": "raw",
   "id": "4d452c2a",
   "metadata": {},
   "source": [
    " **Markers**\n",
    "\n",
    "=============   ===============================\n",
    "character       description\n",
    "=============   ===============================\n",
    "``'.'``         point marker\n",
    "``','``         pixel marker\n",
    "``'o'``         circle marker\n",
    "``'v'``         triangle_down marker\n",
    "``'^'``         triangle_up marker\n",
    "``'<'``         triangle_left marker\n",
    "``'>'``         triangle_right marker\n",
    "``'1'``         tri_down marker\n",
    "``'2'``         tri_up marker\n",
    "``'3'``         tri_left marker\n",
    "``'4'``         tri_right marker\n",
    "``'8'``         octagon marker\n",
    "``'s'``         square marker\n",
    "``'p'``         pentagon marker\n",
    "``'P'``         plus (filled) marker\n",
    "``'*'``         star marker\n",
    "``'h'``         hexagon1 marker\n",
    "``'H'``         hexagon2 marker\n",
    "``'+'``         plus marker\n",
    "``'x'``         x marker\n",
    "``'X'``         x (filled) marker\n",
    "``'D'``         diamond marker\n",
    "``'d'``         thin_diamond marker\n",
    "``'|'``         vline marker\n",
    "``'_'``         hline marker"
   ]
  },
  {
   "cell_type": "code",
   "execution_count": null,
   "id": "1fc1b8d6",
   "metadata": {},
   "outputs": [],
   "source": [
    "plt.plot(a,b , markersize = 6 , linestyle = \"--\" , marker = \"<\")\n",
    "plt.grid(True , linestyle = \"--\" , color = \"red\")"
   ]
  },
  {
   "cell_type": "code",
   "execution_count": null,
   "id": "c40ac8e0",
   "metadata": {
    "scrolled": true
   },
   "outputs": [],
   "source": [
    "plt.plot(a,b , color = \"red\")\n",
    "plt.plot(a,c , color = \"purple\")\n",
    "plt.legend([\"2's table\" , \"3's table\"])"
   ]
  },
  {
   "cell_type": "code",
   "execution_count": null,
   "id": "a67c9364",
   "metadata": {},
   "outputs": [],
   "source": [
    "plt.plot(a,b , color = \"red\" , label = \"Red Line\")\n",
    "plt.plot(a,c , color = \"purple\" , label = \"Purple Line\")\n",
    "plt.legend()"
   ]
  },
  {
   "cell_type": "code",
   "execution_count": null,
   "id": "6ea25062",
   "metadata": {},
   "outputs": [],
   "source": [
    "plt.plot(a,b , color = \"red\" , label = \"Red Line\")\n",
    "plt.plot(a,c , color = \"purple\" , label = \"Purple Line\")\n",
    "plt.legend( loc = \"lower right\" , fontsize = 10)"
   ]
  },
  {
   "cell_type": "code",
   "execution_count": null,
   "id": "8306445d",
   "metadata": {},
   "outputs": [],
   "source": [
    "plt.plot(a,b , color = \"red\" , label = \"Red Line\")\n",
    "plt.plot(a,c , color = \"purple\" , label = \"Purple Line\")\n",
    "plt.legend( loc = 10 , fontsize = 10 , ncol = 2)"
   ]
  },
  {
   "cell_type": "raw",
   "id": "552d8683",
   "metadata": {},
   "source": [
    "===============   =============\n",
    "        Location String   Location Code\n",
    "        ===============   =============\n",
    "        'best'            0\n",
    "        'upper right'     1\n",
    "        'upper left'      2\n",
    "        'lower left'      3\n",
    "        'lower right'     4\n",
    "        'right'           5\n",
    "        'center left'     6\n",
    "        'center right'    7\n",
    "        'lower center'    8\n",
    "        'upper center'    9\n",
    "        'center'          10"
   ]
  },
  {
   "cell_type": "code",
   "execution_count": null,
   "id": "ccf93afb",
   "metadata": {},
   "outputs": [],
   "source": [
    "import matplotlib.style\n",
    "matplotlib.style.use(\"classic\")\n",
    "plt.plot(a,b , color = \"red\")\n",
    "plt.plot(a,c , color = \"purple\")\n",
    "plt.legend([\"Red Line\" , \"Purple Line\"])"
   ]
  },
  {
   "cell_type": "code",
   "execution_count": null,
   "id": "a415dac0",
   "metadata": {},
   "outputs": [],
   "source": [
    "matplotlib.style.available"
   ]
  },
  {
   "cell_type": "markdown",
   "id": "290b2c66",
   "metadata": {},
   "source": [
    "# Scatter Plot:"
   ]
  },
  {
   "cell_type": "code",
   "execution_count": null,
   "id": "25814ff8",
   "metadata": {},
   "outputs": [],
   "source": [
    "print(a)\n",
    "b"
   ]
  },
  {
   "cell_type": "code",
   "execution_count": null,
   "id": "4b40b932",
   "metadata": {},
   "outputs": [],
   "source": [
    "plt.scatter(a,b)"
   ]
  },
  {
   "cell_type": "code",
   "execution_count": null,
   "id": "ddd87bf1",
   "metadata": {},
   "outputs": [],
   "source": [
    "plt.scatter(a,b,color = \"red\")"
   ]
  },
  {
   "cell_type": "code",
   "execution_count": null,
   "id": "abcca2e1",
   "metadata": {},
   "outputs": [],
   "source": [
    "plt.scatter(a,b,color = \"purple\" , marker = \".\")"
   ]
  },
  {
   "cell_type": "code",
   "execution_count": null,
   "id": "043abb87",
   "metadata": {},
   "outputs": [],
   "source": [
    "plt.scatter(a,b,color = \"purple\" , marker = \"1\")"
   ]
  },
  {
   "cell_type": "code",
   "execution_count": null,
   "id": "6f9e28af",
   "metadata": {},
   "outputs": [],
   "source": [
    "plt.scatter(a,b,color = \"purple\" , marker = \"d\")"
   ]
  },
  {
   "cell_type": "code",
   "execution_count": null,
   "id": "e2fdeaa9",
   "metadata": {},
   "outputs": [],
   "source": [
    "plt.scatter(a,b,color = \"purple\" , marker = \"D\" , label = \"Scatter Plot\")\n",
    "plt.legend()"
   ]
  },
  {
   "cell_type": "code",
   "execution_count": null,
   "id": "f1521ca8",
   "metadata": {},
   "outputs": [],
   "source": [
    "plt.scatter(a,b,color = \"purple\" , marker = \"4\")\n",
    "plt.legend([\"SCATTER PLOT\"])"
   ]
  },
  {
   "cell_type": "code",
   "execution_count": null,
   "id": "d56df2c0",
   "metadata": {},
   "outputs": [],
   "source": [
    "plt.style.use(\"classic\")\n",
    "plt.scatter(a,b,color = \"purple\" , marker = \"^\" , label = \"Scatter Plot\")\n",
    "plt.legend()"
   ]
  },
  {
   "cell_type": "code",
   "execution_count": null,
   "id": "235603c3",
   "metadata": {},
   "outputs": [],
   "source": [
    "plt.style.use(\"classic\")\n",
    "plt.grid(True)\n",
    "plt.scatter(a,b,color = \"purple\" , marker = \">\" , label = \"Scatter Plot\")\n",
    "plt.legend()"
   ]
  },
  {
   "cell_type": "code",
   "execution_count": null,
   "id": "f3dae646",
   "metadata": {},
   "outputs": [],
   "source": [
    "plt.style.use(\"classic\")\n",
    "plt.grid(True , color = \"red\" )\n",
    "plt.scatter(a,b,color = \"purple\" , marker = \"o\" , label = \"Scatter Plot\")\n",
    "plt.legend()"
   ]
  },
  {
   "cell_type": "markdown",
   "id": "e0d39b59",
   "metadata": {},
   "source": [
    "# Pie Chart:"
   ]
  },
  {
   "cell_type": "code",
   "execution_count": null,
   "id": "27685e08",
   "metadata": {},
   "outputs": [],
   "source": [
    "a=[1,2,3,4,5]\n",
    "a"
   ]
  },
  {
   "cell_type": "code",
   "execution_count": null,
   "id": "b3657ad4",
   "metadata": {},
   "outputs": [],
   "source": [
    "plt.pie(a)\n",
    "plt.show"
   ]
  },
  {
   "cell_type": "code",
   "execution_count": null,
   "id": "cab3e05f",
   "metadata": {
    "scrolled": true
   },
   "outputs": [],
   "source": [
    "plt.pie(a , labels = [\"pizza\" , \"burgers\" , \"veg wraps\" , \"chicken\" , \"Juice\"]);\n"
   ]
  },
  {
   "cell_type": "code",
   "execution_count": null,
   "id": "a5d10ca4",
   "metadata": {},
   "outputs": [],
   "source": [
    "plt.pie(a , labels = [\"pizza\" , \"burgers\" , \"veg wraps\" , \"chicken\" , \"Juice\"] , explode = [0,0.1,0,0,0])\n",
    "plt.show"
   ]
  },
  {
   "cell_type": "code",
   "execution_count": null,
   "id": "217d2b75",
   "metadata": {},
   "outputs": [],
   "source": [
    "plt.pie(a , labels = [\"pizza\" , \"burgers\" , \"veg wraps\" , \"chicken\" , \"Juice\"] , explode = [0,0.1,0,0,0] , colors = ['red' , 'black' , 'blue' , 'orange' , 'pink'])\n",
    "plt.show"
   ]
  },
  {
   "cell_type": "code",
   "execution_count": null,
   "id": "23425161",
   "metadata": {},
   "outputs": [],
   "source": [
    "ex = [0,0.1,0,0.2,0]\n",
    "lbl = [\"pizza\" , \"burgers\" , \"veg wraps\" , \"chicken\" , \"Juice\"]\n",
    "clr = ['red' , 'black' , 'blue' , 'orange' , 'pink']\n",
    "plt.pie(a , labels =  lbl, explode =  ex, colors = clr);"
   ]
  },
  {
   "cell_type": "code",
   "execution_count": null,
   "id": "01c1fb39",
   "metadata": {},
   "outputs": [],
   "source": [
    "ex = [0,0.1,0,0,0]\n",
    "lbl = [\"pizza\" , \"burgers\" , \"veg wraps\" , \"chicken\" , \"Juice\"]\n",
    "clr = ['#ffb3b3' , '#ccb3ff' , '#99ffbb' , '#ff6666' , '#9999ff']\n",
    "plt.pie(a , labels =  lbl, explode =  ex, colors = clr)\n",
    "plt.legend(title = \"My Title\")"
   ]
  },
  {
   "cell_type": "code",
   "execution_count": null,
   "id": "c167ac6e",
   "metadata": {},
   "outputs": [],
   "source": [
    "ex = [0,0.1,0,0,0]\n",
    "lbl = [\"pizza\" , \"burgers\" , \"veg wraps\" , \"chicken\" , \"Juice\"]\n",
    "clr = ['#ffb3b3' , '#ccb3ff' , '#99ffbb' , '#ff6666' , '#9999ff']\n",
    "plt.pie(a , labels =  lbl, explode =  ex, colors = clr)\n",
    "plt.legend()"
   ]
  },
  {
   "cell_type": "code",
   "execution_count": null,
   "id": "a0e0545a",
   "metadata": {},
   "outputs": [],
   "source": [
    "ex = [0,0.1,0,0,0]\n",
    "lbl = [\"pizza\" , \"burgers\" , \"veg wraps\" , \"chicken\" , \"Juice\"]\n",
    "clr = ['#ffb3b3' , '#ccb3ff' , '#99ffbb' , '#ff6666' , '#9999ff']\n",
    "plt.pie(a , labels =  lbl, explode =  ex, colors = clr)\n",
    "plt.title(\"Graph Title\")\n",
    "plt.legend(title = \"Legend Title\")\n",
    "plt.tight_layout()"
   ]
  },
  {
   "cell_type": "code",
   "execution_count": 3,
   "id": "c39a6091",
   "metadata": {},
   "outputs": [],
   "source": [
    "import numpy as np"
   ]
  },
  {
   "cell_type": "code",
   "execution_count": 6,
   "id": "da684979",
   "metadata": {},
   "outputs": [
    {
     "data": {
      "text/plain": [
       "[<matplotlib.lines.Line2D at 0x1df63af8d00>]"
      ]
     },
     "execution_count": 6,
     "metadata": {},
     "output_type": "execute_result"
    },
    {
     "data": {
      "image/png": "[encoded data removed]",
      "text/plain": [
       "<Figure size 640x480 with 1 Axes>"
      ]
     },
     "metadata": {},
     "output_type": "display_data"
    }
   ],
   "source": [
    "y=np.linspace(-10,10,5000)\n",
    "x=(y**2)/4  # Equation of parabola\n",
    "\n",
    "plt.xlim(0,25)\n",
    "plt.plot(x,y)"
   ]
  },
  {
   "cell_type": "code",
   "execution_count": 10,
   "id": "6a54d2d9",
   "metadata": {},
   "outputs": [
    {
     "data": {
      "text/plain": [
       "[<matplotlib.lines.Line2D at 0x1df63df1570>]"
      ]
     },
     "execution_count": 10,
     "metadata": {},
     "output_type": "execute_result"
    },
    {
     "data": {
      "image/png": "[encoded data removed]",
      "text/plain": [
       "<Figure size 640x480 with 1 Axes>"
      ]
     },
     "metadata": {},
     "output_type": "display_data"
    }
   ],
   "source": [
    "x=np.linspace(0,np.pi*2,360)\n",
    "y=np.sin(x)\n",
    "z=0*x\n",
    "plt.xticks([0,np.pi*0.5,np.pi*1,np.pi*1.5,np.pi*2],[0,90,180,270,360])\n",
    "#plt.ylim(-15,15)\n",
    "plt.grid(True)\n",
    "plt.plot(x,z,'k',linestyle='--',linewidth=2)\n",
    "plt.plot(x,y)"
   ]
  },
  {
   "cell_type": "code",
   "execution_count": 11,
   "id": "724cec76",
   "metadata": {},
   "outputs": [
    {
     "data": {
      "text/plain": [
       "[<matplotlib.lines.Line2D at 0x1df64f4abf0>]"
      ]
     },
     "execution_count": 11,
     "metadata": {},
     "output_type": "execute_result"
    },
    {
     "data": {
      "image/png": "[encoded data removed]",
      "text/plain": [
       "<Figure size 640x480 with 1 Axes>"
      ]
     },
     "metadata": {},
     "output_type": "display_data"
    }
   ],
   "source": [
    "x=np.linspace(1,100,100)\n",
    "y=np.log10(x)\n",
    "plt.plot(x,y)"
   ]
  },
  {
   "cell_type": "markdown",
   "id": "c213c37e",
   "metadata": {},
   "source": [
    "# Subplot "
   ]
  },
  {
   "cell_type": "raw",
   "id": "fa19a0c4",
   "metadata": {},
   "source": [
    "With the subplot() function you can draw multiple plots in one figure:\n",
    "The subplot() function takes three arguments that describes the layout of the figure.\n",
    "\n",
    "The layout is organized in rows and columns, which are represented by the first and second argument.\n",
    "\n",
    "The third argument represents the index of the current plot."
   ]
  },
  {
   "cell_type": "code",
   "execution_count": 15,
   "id": "d3d8ece6",
   "metadata": {},
   "outputs": [
    {
     "data": {
      "image/png": "[encoded data removed]",
      "text/plain": [
       "<Figure size 640x480 with 4 Axes>"
      ]
     },
     "metadata": {},
     "output_type": "display_data"
    }
   ],
   "source": [
    "x=np.linspace(0,np.pi*2,720)\n",
    "y=np.sin(x)\n",
    "z=0*x\n",
    "plt.subplot(2,2,1)\n",
    "plt.xticks([0,np.pi*0.5,np.pi*1,np.pi*1.5,np.pi*2],[0,90,180,270,360])\n",
    "plt.title('sin-graph')\n",
    "plt.grid(True)\n",
    "plt.plot(x,z,'k',linestyle='--',linewidth=2)\n",
    "plt.plot(x,y,'y')\n",
    "\n",
    "\n",
    "y=np.cos(x)\n",
    "plt.subplot(2,2,2)\n",
    "plt.xticks([0,np.pi*0.5,np.pi*1,np.pi*1.5,np.pi*2],[0,90,180,270,360])\n",
    "plt.title('cos-graph')\n",
    "plt.grid(True)\n",
    "plt.plot(x,z,'k',linestyle='--',linewidth=2)\n",
    "plt.plot(x,y,'r')\n",
    "\n",
    "y=np.tan(x)\n",
    "plt.subplot(2,2,3)\n",
    "plt.xticks([0,np.pi*0.5,np.pi*1,np.pi*1.5,np.pi*2],[0,90,180,270,360])\n",
    "plt.ylim(-15,15)\n",
    "plt.grid(True)\n",
    "plt.title('tan-graph')\n",
    "plt.plot(x,z,'k',linestyle='--',linewidth=2)\n",
    "plt.plot(x,y,'g')\n",
    "\n",
    "plt.subplot(2,2,4)\n",
    "x=np.linspace(1,100,720)\n",
    "y=np.log10(x)\n",
    "plt.grid(True)\n",
    "plt.title('log-graph')\n",
    "plt.plot(x,z,'k',linestyle='--',linewidth=2)\n",
    "plt.plot(x,y,'m')\n",
    "\n",
    "plt.tight_layout()\n",
    "plt.show\n",
    "plt.savefig('Graph.')"
   ]
  },
  {
   "cell_type": "code",
   "execution_count": null,
   "id": "adef943e",
   "metadata": {},
   "outputs": [],
   "source": [
    "x=np.linspace(0,6.3,360)\n",
    "y=np.sin(x)\n",
    "#plt.subplot(1,3,1)\n",
    "plt.grid(True)\n",
    "plt.xticks([0,np.pi*0.5,np.pi*1,np.pi*1.5,np.pi*2],[0,90,180,270,360])\n",
    "plt.title('sin(x)')\n",
    "plt.plot(x,y,'k')\n",
    "\n"
   ]
  },
  {
   "cell_type": "code",
   "execution_count": null,
   "id": "4c10d5d3",
   "metadata": {},
   "outputs": [],
   "source": [
    "a=[1,2,3]"
   ]
  },
  {
   "cell_type": "code",
   "execution_count": null,
   "id": "c1ef4c8a",
   "metadata": {},
   "outputs": [],
   "source": []
  }
 ],
 "metadata": {
  "kernelspec": {
   "display_name": "Python 3 (ipykernel)",
   "language": "python",
   "name": "python3"
  },
  "language_info": {
   "codemirror_mode": {
    "name": "ipython",
    "version": 3
   },
   "file_extension": ".py",
   "mimetype": "text/x-python",
   "name": "python",
   "nbconvert_exporter": "python",
   "pygments_lexer": "ipython3",
   "version": "3.10.7"
  }
 },
 "nbformat": 4,
 "nbformat_minor": 5
}
