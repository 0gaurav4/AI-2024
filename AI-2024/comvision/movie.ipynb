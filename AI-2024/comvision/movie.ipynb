{
 "cells": [
  {
   "cell_type": "code",
   "execution_count": 1,
   "metadata": {},
   "outputs": [],
   "source": [
    "# Function to create a video with text overlay\n",
    "def create_video_with_text():\n",
    "    from moviepy.editor import VideoFileClip, TextClip, CompositeVideoClip\n",
    "\n",
    "    video = VideoFileClip(\"car.mp4\").subclip(3, 4)\n",
    "\n",
    "    # Make the text. Many more options are available.\n",
    "    txt_clip = (TextClip(\"Video Editing AI\", fontsize=70, color='white')\n",
    "                .set_position('center')\n",
    "                .set_duration(10))\n",
    "\n",
    "    result = CompositeVideoClip([video, txt_clip])  # Overlay text on video\n",
    "    result.write_videofile(\"myHolidays_edited.webm\", fps=25)\n"
   ]
  },
  {
   "cell_type": "code",
   "execution_count": 2,
   "metadata": {},
   "outputs": [
    {
     "name": "stdout",
     "output_type": "stream",
     "text": [
      "Moviepy - Building video myHolidays_edited.webm.\n",
      "MoviePy - Writing audio in myHolidays_editedTEMP_MPY_wvf_snd.ogg\n"
     ]
    },
    {
     "name": "stderr",
     "output_type": "stream",
     "text": [
      "                                                       \r"
     ]
    },
    {
     "name": "stdout",
     "output_type": "stream",
     "text": [
      "MoviePy - Done.\n",
      "Moviepy - Writing video myHolidays_edited.webm\n",
      "\n"
     ]
    },
    {
     "name": "stderr",
     "output_type": "stream",
     "text": [
      "                                                               "
     ]
    },
    {
     "name": "stdout",
     "output_type": "stream",
     "text": [
      "Moviepy - Done !\n",
      "Moviepy - video ready myHolidays_edited.webm\n"
     ]
    },
    {
     "name": "stderr",
     "output_type": "stream",
     "text": [
      "\r"
     ]
    }
   ],
   "source": [
    "create_video_with_text()"
   ]
  },
  {
   "cell_type": "code",
   "execution_count": null,
   "metadata": {},
   "outputs": [],
   "source": []
  }
 ],
 "metadata": {
  "kernelspec": {
   "display_name": "base",
   "language": "python",
   "name": "python3"
  },
  "language_info": {
   "codemirror_mode": {
    "name": "ipython",
    "version": 3
   },
   "file_extension": ".py",
   "mimetype": "text/x-python",
   "name": "python",
   "nbconvert_exporter": "python",
   "pygments_lexer": "ipython3",
   "version": "3.11.7"
  }
 },
 "nbformat": 4,
 "nbformat_minor": 2
}
