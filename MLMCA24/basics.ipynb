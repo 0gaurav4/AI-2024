{
 "cells": [
  {
   "cell_type": "code",
   "execution_count": 1,
   "metadata": {},
   "outputs": [
    {
     "name": "stdout",
     "output_type": "stream",
     "text": [
      "The series for n=5 is: , [5, 55, 555, 5555, 55555]\n",
      "The sum of the series for n=5 is:  61725\n"
     ]
    }
   ],
   "source": [
    "def ques(n):\n",
    "    sum = 0\n",
    "    series = []\n",
    "    for i in range(1, n + 1):\n",
    "        term = int('5' * i)\n",
    "        series.append(term)\n",
    "        sum = sum + term\n",
    "    print(f\"The series for n={n} is: ,\",series)\n",
    "    return sum\n",
    "n = int(input(\"Enter the number of terms in the series: \"))\n",
    "print(f\"The sum of the series for n={n} is: \",ques(n))"
   ]
  },
  {
   "cell_type": "code",
   "execution_count": 2,
   "metadata": {},
   "outputs": [
    {
     "data": {
      "text/plain": [
       "[[15, 11, 11], [17, 16, 16], [15, 15, 18]]"
      ]
     },
     "execution_count": 2,
     "metadata": {},
     "output_type": "execute_result"
    }
   ],
   "source": [
    "y = [[15, 11, 11],\n",
    "     [17, 16, 16],\n",
    "     [15, 15, 18]]\n",
    "y\n"
   ]
  },
  {
   "cell_type": "code",
   "execution_count": 3,
   "metadata": {},
   "outputs": [
    {
     "name": "stdout",
     "output_type": "stream",
     "text": [
      "[[15 11 11]\n",
      " [17 16 16]\n",
      " [15 15 18]]\n"
     ]
    }
   ],
   "source": [
    "# prompt:\n",
    "\n",
    "import numpy as np\n",
    "\n",
    "y = np.array([[15, 11, 11],\n",
    "     [17, 16, 16],\n",
    "     [15, 15, 18]])\n",
    "\n",
    "print(y)\n"
   ]
  },
  {
   "cell_type": "code",
   "execution_count": 4,
   "metadata": {},
   "outputs": [
    {
     "data": {
      "text/plain": [
       "16"
      ]
     },
     "execution_count": 4,
     "metadata": {},
     "output_type": "execute_result"
    }
   ],
   "source": [
    "y[1,1]\n"
   ]
  },
  {
   "cell_type": "code",
   "execution_count": 5,
   "metadata": {},
   "outputs": [],
   "source": [
    "arr = ([20,21,22,23,24,25,26,27,28,29])\n"
   ]
  },
  {
   "cell_type": "code",
   "execution_count": 9,
   "metadata": {},
   "outputs": [
    {
     "data": {
      "text/plain": [
       "array([[43, 18,  6, 16, 45, 20],\n",
       "       [21, 22, 29, 49,  7, 49],\n",
       "       [22, 27, 43, 33,  4, 14],\n",
       "       [14, 21, 31, 29, 30, 39],\n",
       "       [25,  5, 21, 42, 25, 22],\n",
       "       [34, 22, 46, 18, 31, 15]])"
      ]
     },
     "execution_count": 9,
     "metadata": {},
     "output_type": "execute_result"
    }
   ],
   "source": [
    "import numpy as np\n",
    "b = np.random.randint(1, 50, size=(6, 6))\n",
    "b"
   ]
  },
  {
   "cell_type": "code",
   "execution_count": 7,
   "metadata": {},
   "outputs": [
    {
     "data": {
      "text/plain": [
       "array([15, 11, 11, 17, 15, 15])"
      ]
     },
     "execution_count": 7,
     "metadata": {},
     "output_type": "execute_result"
    }
   ],
   "source": [
    "y[(y>25) | (y%2!=0)]\n"
   ]
  },
  {
   "cell_type": "code",
   "execution_count": 8,
   "metadata": {},
   "outputs": [
    {
     "data": {
      "text/plain": [
       "array([47, 42, 45])"
      ]
     },
     "execution_count": 8,
     "metadata": {},
     "output_type": "execute_result"
    }
   ],
   "source": [
    "y.sum(axis=0)\n"
   ]
  },
  {
   "cell_type": "markdown",
   "metadata": {},
   "source": [
    "### why we use log in ML ?\n",
    "```\n",
    "In machine learning, logarithmic transformations are commonly used to transform skewed data distributions into more normally distributed data.\n",
    "This helps in improving the performance of machine learning models that assume normally distributed data, such as linear regression.\n",
    "Log transformations can also help in handling large ranges of values and making the data more interpretable.\n",
    "```"
   ]
  },
  {
   "cell_type": "code",
   "execution_count": 2,
   "metadata": {},
   "outputs": [
    {
     "name": "stdout",
     "output_type": "stream",
     "text": [
      "1 2 3 4 5 6 7 8 9 10 \n"
     ]
    }
   ],
   "source": [
    "for i in range(1, 11):\n",
    "    print(i, end=\" \")\n",
    "print()\n",
    "\n"
   ]
  },
  {
   "cell_type": "code",
   "execution_count": null,
   "metadata": {},
   "outputs": [],
   "source": []
  }
 ],
 "metadata": {
  "kernelspec": {
   "display_name": "base",
   "language": "python",
   "name": "python3"
  },
  "language_info": {
   "codemirror_mode": {
    "name": "ipython",
    "version": 3
   },
   "file_extension": ".py",
   "mimetype": "text/x-python",
   "name": "python",
   "nbconvert_exporter": "python",
   "pygments_lexer": "ipython3",
   "version": "3.11.5"
  }
 },
 "nbformat": 4,
 "nbformat_minor": 2
}
